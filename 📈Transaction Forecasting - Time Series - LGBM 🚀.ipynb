{
 "cells": [
  {
   "cell_type": "markdown",
   "id": "7b6b066d",
   "metadata": {},
   "source": [
    "<a id='ldata'></a>\n",
    " <a id = \"11115\"></a><br>\n",
    "\n",
    "<div>  \n",
    "<h1><center style=\"background-color:#c0c0c0; color:black;\"><strong>  📈Transaction Forecasting (ML Approaches for Time Series )🚀 </strong></center></h1>\n",
    "</div>"
   ]
  },
  {
   "cell_type": "markdown",
   "id": "d57216e6",
   "metadata": {},
   "source": [
    "<img src=\"https://github.com/Mustafa-YAZICI/-Transaction-Forecasting-ML-Approaches-for-Time-Series-/blob/main/tsf.jpg?raw=true\" width=\"600\">"
   ]
  },
  {
   "cell_type": "markdown",
   "id": "f112d92c",
   "metadata": {},
   "source": [
    "<a id='ldata'></a>\n",
    " <a id = \"11115\"></a><br>\n",
    "\n",
    "<div>  \n",
    "<h1><center style=\"background-color:#c0c0c0; color:black;\"><strong>TABLE OF CONTENTS </strong></center></h1>\n",
    "</div>\n",
    "\n",
    "1. [Description](#1)\n",
    "2. [Loading libraries and data](#2)\n",
    "3. [Understanding the data](#3)\n",
    "\n",
    "4. [Date Features](#4)\n",
    "5. [Lag/Shifted Features](#5)\n",
    "6. [Rolling Mean Features](#6)\n",
    "7. [Exponentially Weighted Mean Features](#7)\n",
    "8. [Special Days](#8)\n",
    "9. [One-Hot Encoding](#9)\n",
    "10. [Custom Cost Function](#10)\n",
    "\n",
    "11. [Train,Test, and Validation Sets](#11)\n",
    "12. [LightGBM Model](#12)\n",
    "13. [SMAPE](#13)\n",
    "14. [Result](#14)"
   ]
  },
  {
   "cell_type": "markdown",
   "id": "f157d780",
   "metadata": {},
   "source": [
    "<a id='ldata'></a>\n",
    " <a id = \"1\"></a><br>\n",
    "\n",
    "<div>  \n",
    "<h1><center style=\"background-color:#c0c0c0; color:black;\"><strong>1. DESCRIPTION </strong></center></h1>\n",
    "</div>\n",
    "<a id=\"Description\"></a>"
   ]
  },
  {
   "cell_type": "markdown",
   "id": "890f1265",
   "metadata": {},
   "source": [
    "<div style=\"border-radius:10px;\n",
    "            border : black solid;\n",
    "            background-color: #FFFFF;\n",
    "            font-size:110%;\n",
    "            text-align: left\">\n",
    "\n",
    "    \n",
    "    \n",
    "## Expected Transaction Volume Estimation of Merchants\n",
    "    \n",
    "### Business Problem\n",
    "\n",
    "Iyzico is a financial technology company that facilitates the online shopping experience for both buyers and sellers. It provides payment infrastructure for e-commerce companies, marketplaces and individual users. In this project we make an estimation of the total trading volume, for the first 3 months of 2021.\n",
    "\n",
    "### Dataset & Variables\n",
    "\n",
    "> Dataset contains 2018-2021 datas of 7 merchants.\n",
    "\n",
    "* **transaction_date :** Date of sales\n",
    "* **merchant_id :** Id's of merchants (Unique number for each merchant)\n",
    "* **Total_Transaction :** Number of transactions\n",
    "* **Total_Paid :** Payment amount"
   ]
  },
  {
   "cell_type": "markdown",
   "id": "298d74cb",
   "metadata": {},
   "source": [
    "<a id = \"2\" ></a>\n",
    "# <span style=\"font-family:serif; font-size:28px;\"> 2. Loading libraries and data</span>\n",
    "<a id=\"loading\"></a>"
   ]
  },
  {
   "cell_type": "code",
   "execution_count": 1,
   "id": "f5248af0",
   "metadata": {},
   "outputs": [],
   "source": [
    "import time\n",
    "import numpy as np\n",
    "import pandas as pd\n",
    "from matplotlib import pyplot as plt\n",
    "import seaborn as sns\n",
    "import lightgbm as lgb\n",
    "import warnings\n",
    "\n",
    "pd.set_option('display.max_columns', None)\n",
    "pd.set_option('display.width', 500)\n",
    "warnings.filterwarnings('ignore')"
   ]
  },
  {
   "cell_type": "code",
   "execution_count": 2,
   "id": "a5999873",
   "metadata": {},
   "outputs": [
    {
     "ename": "NameError",
     "evalue": "name 'df' is not defined",
     "output_type": "error",
     "traceback": [
      "\u001b[1;31m---------------------------------------------------------------------------\u001b[0m",
      "\u001b[1;31mNameError\u001b[0m                                 Traceback (most recent call last)",
      "\u001b[1;32mC:\\Users\\MS2078~1\\AppData\\Local\\Temp/ipykernel_19992/857714779.py\u001b[0m in \u001b[0;36m<module>\u001b[1;34m\u001b[0m\n\u001b[1;32m----> 1\u001b[1;33m \u001b[0mdf\u001b[0m\u001b[1;33m.\u001b[0m\u001b[0mshape\u001b[0m\u001b[1;33m\u001b[0m\u001b[1;33m\u001b[0m\u001b[0m\n\u001b[0m",
      "\u001b[1;31mNameError\u001b[0m: name 'df' is not defined"
     ]
    }
   ],
   "source": [
    "df.shape"
   ]
  },
  {
   "cell_type": "code",
   "execution_count": null,
   "id": "33d4e19c",
   "metadata": {},
   "outputs": [],
   "source": [
    "df = pd.read_csv('iyzico_data.csv', parse_dates=['transaction_date'],index_col=0)\n",
    "df.head(5)"
   ]
  },
  {
   "cell_type": "markdown",
   "id": "cc637aaf",
   "metadata": {},
   "source": [
    "<a id = \"3\" ></a>\n",
    "# <span style=\"font-family:serif; font-size:28px;\"> 3. Understanding the data</span>\n",
    "<a id = \"Undertanding the data\" ></a>"
   ]
  },
  {
   "cell_type": "code",
   "execution_count": null,
   "id": "4bc3c88f",
   "metadata": {},
   "outputs": [],
   "source": [
    "df.info()"
   ]
  },
  {
   "cell_type": "code",
   "execution_count": null,
   "id": "29d10fc4",
   "metadata": {},
   "outputs": [],
   "source": [
    "merchant_ids=df[\"merchant_id\"].unique()\n",
    "merchant_ids"
   ]
  },
  {
   "cell_type": "code",
   "execution_count": null,
   "id": "03fb8c1b",
   "metadata": {},
   "outputs": [],
   "source": [
    "dfx=df[df[\"merchant_id\"]==merchant_ids[2]]\n",
    "forecast = pd.DataFrame({\n",
    "    \"transaction_date\":dfx.transaction_date,\n",
    "    \"Total_Transaction\":dfx.Total_Transaction\n",
    "})\n",
    "\n",
    "forecast.set_index(\"transaction_date\").Total_Transaction.plot(color = \"orange\", figsize = (20,6),legend=True);"
   ]
  },
  {
   "cell_type": "markdown",
   "id": "c551488d",
   "metadata": {},
   "source": [
    "We will choose one here and make an estimate based on it. You can guess the others."
   ]
  },
  {
   "cell_type": "code",
   "execution_count": null,
   "id": "5bcb32e8",
   "metadata": {
    "scrolled": true
   },
   "outputs": [],
   "source": [
    "df=df[df[\"merchant_id\"]==merchant_ids[2]]\n",
    "df.head(3)"
   ]
  },
  {
   "cell_type": "markdown",
   "id": "d20cb04a",
   "metadata": {},
   "source": [
    "<a id = \"4\" ></a>\n",
    "# <span style=\"font-family:serif; font-size:28px;\"> 4. Date Features</span>\n",
    "<a id = \"Undertanding the data\" ></a>"
   ]
  },
  {
   "cell_type": "code",
   "execution_count": null,
   "id": "1da5deb2",
   "metadata": {},
   "outputs": [],
   "source": [
    "def create_date_features(df):\n",
    "    df['month'] = df.transaction_date.dt.month\n",
    "    df['day_of_month'] = df.transaction_date.dt.day\n",
    "    df['day_of_year'] = df.transaction_date.dt.dayofyear\n",
    "    df['week_of_year'] = df.transaction_date.dt.weekofyear\n",
    "    df['day_of_week'] = df.transaction_date.dt.dayofweek\n",
    "    df['year'] = df.transaction_date.dt.year\n",
    "    df[\"is_wknd\"] = df.transaction_date.dt.weekday // 4\n",
    "    df['is_month_start'] = df.transaction_date.dt.is_month_start.astype(int)\n",
    "    df['is_month_end'] = df.transaction_date.dt.is_month_end.astype(int)\n",
    "    return df\n",
    "\n",
    "df = create_date_features(df)\n",
    "df.head(3)"
   ]
  },
  {
   "cell_type": "code",
   "execution_count": null,
   "id": "d58c9238",
   "metadata": {
    "scrolled": true
   },
   "outputs": [],
   "source": [
    "df.groupby([\"merchant_id\",\"year\"]).agg({\"Total_Transaction\": [\"count\"]}).T"
   ]
  },
  {
   "cell_type": "code",
   "execution_count": null,
   "id": "eefc8b11",
   "metadata": {
    "scrolled": true
   },
   "outputs": [],
   "source": [
    "for merchant_id in df.merchant_id.unique():\n",
    "    for year in df.year.unique():\n",
    "        plt.figure(figsize=(10, 5))\n",
    "        sns.set(font_scale=1)\n",
    "        sns.barplot(x=\"day_of_year\", y=\"Total_Transaction\", data=df[df[\"merchant_id\"]==merchant_id][df[\"year\"]==year])\n",
    "        plt.title(str(year)+\"_\"+str(merchant_id))\n",
    "        plt.tight_layout()\n",
    "        plt.show()\n",
    "    break"
   ]
  },
  {
   "cell_type": "code",
   "execution_count": null,
   "id": "514d4a8b",
   "metadata": {},
   "outputs": [],
   "source": [
    "########################\n",
    "# Random Noise\n",
    "########################\n",
    "\n",
    "def random_noise(dataframe):\n",
    "    return np.random.normal(scale=1.6, size=(len(dataframe),))"
   ]
  },
  {
   "cell_type": "markdown",
   "id": "9e895612",
   "metadata": {},
   "source": [
    "<a id = \"5\" ></a>\n",
    "# <span style=\"font-family:serif; font-size:28px;\"> 5. Lag/Shifted Features</span>\n",
    "<a id = \"Undertanding the data\" ></a>"
   ]
  },
  {
   "cell_type": "code",
   "execution_count": null,
   "id": "7815c41a",
   "metadata": {},
   "outputs": [],
   "source": [
    "########################\n",
    "# Lag/Shifted Features\n",
    "########################\n",
    "\n",
    "df.sort_values(by=['merchant_id', 'transaction_date'], axis=0, inplace=True)\n",
    "df.head(3)"
   ]
  },
  {
   "cell_type": "code",
   "execution_count": null,
   "id": "c7d0a852",
   "metadata": {},
   "outputs": [],
   "source": [
    "def lag_features(dataframe, lags):\n",
    "    for lag in lags:\n",
    "        dataframe['Total_Transaction_lag_' + str(lag)] = dataframe.groupby([\"merchant_id\"])['Total_Transaction'].transform(\n",
    "            lambda x: x.shift(lag)) + random_noise(dataframe)\n",
    "    return dataframe\n",
    "\n",
    "df = lag_features(df, [91, 98, 105, 112, 119, 126, 182, 364, 546, 728])\n",
    "df"
   ]
  },
  {
   "cell_type": "markdown",
   "id": "55ef420a",
   "metadata": {},
   "source": [
    "<a id = \"6\" ></a>\n",
    "# <span style=\"font-family:serif; font-size:28px;\"> 6. Rolling Mean Features</span>\n",
    "<a id = \"Undertanding the data\" ></a>"
   ]
  },
  {
   "cell_type": "code",
   "execution_count": null,
   "id": "d6ff8e9e",
   "metadata": {},
   "outputs": [],
   "source": [
    "########################\n",
    "# Rolling Mean Features\n",
    "########################\n",
    "\n",
    "def roll_mean_features(dataframe, windows):\n",
    "    for window in windows:\n",
    "        dataframe['Total_Paid_roll_mean_' + str(window)] = dataframe.groupby([\"merchant_id\"])['Total_Paid']. \\\n",
    "                                                          transform(\n",
    "            lambda x: x.shift(1).rolling(window=window, min_periods=10, win_type=\"triang\").mean()) + random_noise(\n",
    "            dataframe)\n",
    "    return dataframe\n",
    "\n",
    "\n",
    "df = roll_mean_features(df, [91,120,182,365, 546,728])\n",
    "df"
   ]
  },
  {
   "cell_type": "code",
   "execution_count": null,
   "id": "cef156b5",
   "metadata": {},
   "outputs": [],
   "source": [
    "# ########################\n",
    "# # Rolling Mean Features\n",
    "# ########################\n",
    "\n",
    "\n",
    "# def roll_mean_features(dataframe, windows):\n",
    "#     for window in windows:\n",
    "#         dataframe['Total_Transaction_roll_mean_' + str(window)] = dataframe.groupby([\"merchant_id\"])['Total_Transaction']. \\\n",
    "#                                                           transform(\n",
    "#             lambda x: x.shift(1).rolling(window=window, min_periods=10, win_type=\"triang\").mean()) + random_noise(\n",
    "#             dataframe)\n",
    "#     return dataframe\n",
    "\n",
    "\n",
    "# df = roll_mean_features(df, [15,30,45,60,120,182,365, 546,728])\n",
    "# df"
   ]
  },
  {
   "cell_type": "markdown",
   "id": "495cad4c",
   "metadata": {},
   "source": [
    "<a id = \"7\" ></a>\n",
    "# <span style=\"font-family:serif; font-size:28px;\"> 7. Exponentially Weighted Mean Features</span>\n",
    "<a id = \"Undertanding the data\" ></a>"
   ]
  },
  {
   "cell_type": "code",
   "execution_count": null,
   "id": "1576a493",
   "metadata": {},
   "outputs": [],
   "source": [
    "########################\n",
    "# Exponentially Weighted Mean Features\n",
    "########################\n",
    "\n",
    "def ewm_features(dataframe, alphas, lags):\n",
    "    for alpha in alphas:\n",
    "        for lag in lags:\n",
    "            dataframe['Total_Transaction_ewm_alpha_' + str(alpha).replace(\".\", \"\") + \"_lag_\" + str(lag)] = \\\n",
    "                dataframe.groupby([\"merchant_id\"])['Total_Transaction'].transform(lambda x: x.shift(lag).ewm(alpha=alpha).mean())\n",
    "    return dataframe\n",
    "\n",
    "alphas = [0.95, 0.9, 0.8, 0.7, 0.5]\n",
    "lags = [91, 98, 105, 112, 180, 270, 365, 546, 728]\n",
    "\n",
    "df = ewm_features(df, alphas, lags)\n",
    "df"
   ]
  },
  {
   "cell_type": "code",
   "execution_count": null,
   "id": "2a9ec0dd",
   "metadata": {},
   "outputs": [],
   "source": [
    "df.groupby([\"day_of_year\"]).agg({\"Total_Paid\": [\"sum\"]})"
   ]
  },
  {
   "cell_type": "markdown",
   "id": "7cbae52c",
   "metadata": {},
   "source": [
    "<a id = \"8\" ></a>\n",
    "# <span style=\"font-family:serif; font-size:28px;\"> 8. Special Days</span>\n",
    "<a id = \"Undertanding the data\" ></a>"
   ]
  },
  {
   "cell_type": "code",
   "execution_count": null,
   "id": "0ca2b6f1",
   "metadata": {
    "scrolled": true
   },
   "outputs": [],
   "source": [
    "imported_days=[]\n",
    "ort_=df[\"Total_Paid\"].mean()\n",
    "for day in df[\"day_of_year\"].unique():\n",
    "    dfx=df[df[\"day_of_year\"]==day][\"Total_Paid\"]\n",
    "    if int(100*dfx.mean()/ort_)<50 or int(100*dfx.mean()/ort_)>150:\n",
    "        imported_days.append(day)\n",
    "        if len(imported_days)<5:\n",
    "            print(day,int(100*dfx.mean()/ort_),dfx.sum()/dfx.std())\n",
    "        "
   ]
  },
  {
   "cell_type": "code",
   "execution_count": null,
   "id": "982ae7bc",
   "metadata": {},
   "outputs": [],
   "source": [
    "df[df[\"day_of_year\"]==26][[\"Total_Paid\",\"merchant_id\"]]"
   ]
  },
  {
   "cell_type": "code",
   "execution_count": null,
   "id": "9ef7abb7",
   "metadata": {},
   "outputs": [],
   "source": [
    "for day in imported_days:\n",
    "    df[\"day_\"+str(day)]=0\n",
    "    df.loc[df[df[\"day_of_year\"]==day].index,\"day_\"+str(day)]=1\n",
    "df"
   ]
  },
  {
   "cell_type": "markdown",
   "id": "1e7ce6fb",
   "metadata": {},
   "source": [
    "<a id = \"9\" ></a>\n",
    "# <span style=\"font-family:serif; font-size:28px;\"> 9. One-Hot Encoding</span>\n",
    "<a id = \"Undertanding the data\" ></a>"
   ]
  },
  {
   "cell_type": "code",
   "execution_count": null,
   "id": "f8a56197",
   "metadata": {},
   "outputs": [],
   "source": [
    "########################\n",
    "# One-Hot Encoding\n",
    "########################\n",
    "\n",
    "df = pd.get_dummies(df, columns=['merchant_id', 'day_of_week', \"week_of_year\",'month'])\n",
    "df"
   ]
  },
  {
   "cell_type": "code",
   "execution_count": null,
   "id": "e8896aa2",
   "metadata": {},
   "outputs": [],
   "source": [
    "########################\n",
    "# Converting sales to log(1+sales)\n",
    "########################\n",
    "\n",
    "df['Total_Paid'] = np.log1p(df[\"Total_Paid\"].values)"
   ]
  },
  {
   "cell_type": "markdown",
   "id": "64ab15c1",
   "metadata": {},
   "source": [
    "<a id = \"10\" ></a>\n",
    "# <span style=\"font-family:serif; font-size:28px;\"> 10. Custom Cost Function</span>\n",
    "<a id = \"Undertanding the data\" ></a>"
   ]
  },
  {
   "cell_type": "code",
   "execution_count": null,
   "id": "a27f307c",
   "metadata": {},
   "outputs": [],
   "source": [
    "########################\n",
    "# Custom Cost Function\n",
    "########################\n",
    "\n",
    "# MAE, MSE, RMSE, SSE\n",
    "\n",
    "# MAE: mean absolute error\n",
    "# MAPE: mean absolute percentage error\n",
    "# SMAPE: Symmetric mean absolute percentage error (adjusted MAPE)\n",
    "\n",
    "def smape(preds, target):\n",
    "    n = len(preds)\n",
    "    masked_arr = ~((preds == 0) & (target == 0))\n",
    "    preds, target = preds[masked_arr], target[masked_arr]\n",
    "    num = np.abs(preds - target)\n",
    "    denom = np.abs(preds) + np.abs(target)\n",
    "    smape_val = (200 * np.sum(num / denom)) / n\n",
    "    return smape_val\n",
    "\n",
    "\n",
    "def lgbm_smape(preds, train_data):\n",
    "    labels = train_data.get_label()\n",
    "    smape_val = smape(np.expm1(preds), np.expm1(labels))\n",
    "    return 'SMAPE', smape_val, False"
   ]
  },
  {
   "cell_type": "markdown",
   "id": "60951d93",
   "metadata": {},
   "source": [
    "<a id = \"11\" ></a>\n",
    "# <span style=\"font-family:serif; font-size:28px;\"> 11. Train,Test, and Validation Sets</span>\n",
    "<a id = \"Undertanding the data\" ></a>"
   ]
  },
  {
   "cell_type": "code",
   "execution_count": null,
   "id": "821a8d85",
   "metadata": {},
   "outputs": [],
   "source": [
    "########################\n",
    "# Time-Based Validation Sets\n",
    "########################\n",
    "\n",
    "# 2020'nin başına kadar (2019'nın sonuna kadar) train seti.\n",
    "train = df.loc[(df[\"transaction_date\"] < \"2020-01-01\"), :]\n",
    "\n",
    "# 2020'nin ilk 3'ayı validasyon seti.\n",
    "val = df.loc[(df[\"transaction_date\"] >= \"2020-01-01\") & (df[\"transaction_date\"] < \"2020-04-01\"), :]\n",
    "\n",
    "cols = [col for col in train.columns if col not in ['transaction_date', \"Total_Transaction\",\"Total_Paid\"]]\n",
    "\n",
    "Y_train = train['Total_Paid']\n",
    "X_train = train[cols]\n",
    "\n",
    "Y_val = val['Total_Paid']\n",
    "X_val = val[cols]\n",
    "\n",
    "Y_train.shape, X_train.shape, Y_val.shape, X_val.shape\n"
   ]
  },
  {
   "cell_type": "code",
   "execution_count": null,
   "id": "262f9c0a",
   "metadata": {},
   "outputs": [],
   "source": [
    "X_train.head(2)"
   ]
  },
  {
   "cell_type": "markdown",
   "id": "293a1b45",
   "metadata": {},
   "source": [
    "<a id = \"12\" ></a>\n",
    "# <span style=\"font-family:serif; font-size:28px;\"> 12. LightGBM Model</span>\n",
    "<a id = \"Undertanding the data\" ></a>"
   ]
  },
  {
   "cell_type": "code",
   "execution_count": null,
   "id": "81413174",
   "metadata": {},
   "outputs": [],
   "source": [
    "########################\n",
    "# LightGBM ile Zaman Serisi Modeli\n",
    "########################\n",
    "\n",
    "# LightGBM parameters\n",
    "lgb_params = {'num_leaves': 10,\n",
    "              'learning_rate': 0.02,\n",
    "              'feature_fraction': 0.8,\n",
    "              'max_depth': 5,\n",
    "              'verbose': 0,\n",
    "              'num_boost_round': 10000,     \n",
    "              'early_stopping_rounds': 300,    \n",
    "              'nthread': -1}\n",
    "\n",
    "lgbtrain = lgb.Dataset(data=X_train, label=Y_train, feature_name=cols) \n",
    "\n",
    "lgbval = lgb.Dataset(data=X_val, label=Y_val, reference=lgbtrain, feature_name=cols)\n",
    "\n",
    "# train==fit\n",
    "model = lgb.train(lgb_params, lgbtrain,\n",
    "                  valid_sets=[lgbtrain, lgbval],\n",
    "                  num_boost_round=lgb_params['num_boost_round'],\n",
    "                  early_stopping_rounds=lgb_params['early_stopping_rounds'],\n",
    "                  feval=lgbm_smape, # özel bir hata/loss fonksiyonumuz varsa buraya yazıyoruz\n",
    "                  verbose_eval=10)  # 100 iterasyonda bir raporlama yapsın\n",
    "\n"
   ]
  },
  {
   "cell_type": "markdown",
   "id": "d56621d0",
   "metadata": {},
   "source": [
    "<a id = \"13\" ></a>\n",
    "# <span style=\"font-family:serif; font-size:28px;\"> 13. SMAPE</span>\n",
    "<a id = \"Undertanding the data\" ></a>"
   ]
  },
  {
   "cell_type": "code",
   "execution_count": null,
   "id": "ce33bcb3",
   "metadata": {},
   "outputs": [],
   "source": [
    "y_pred_val = model.predict(X_val, num_iteration=model.best_iteration)\n",
    "\n",
    "smape(np.expm1(y_pred_val), np.expm1(Y_val))   # np.expm1(): log u alınmış değerlerin ilk halini bulur"
   ]
  },
  {
   "cell_type": "code",
   "execution_count": null,
   "id": "d0ebaf67",
   "metadata": {},
   "outputs": [],
   "source": [
    "########################\n",
    "# Variable İmportant Levels\n",
    "########################\n",
    "\n",
    "def plot_lgb_importances(model, plot=False, num=10):\n",
    "    gain = model.feature_importance('gain')\n",
    "    feat_imp = pd.DataFrame({'feature': model.feature_name(),\n",
    "                             'split': model.feature_importance('split'),\n",
    "                             'gain': 100 * gain / gain.sum()}).sort_values('gain', ascending=False)\n",
    "    if plot:\n",
    "        plt.figure(figsize=(10, 10))\n",
    "        sns.set(font_scale=1)\n",
    "        sns.barplot(x=\"gain\", y=\"feature\", data=feat_imp[0:25])\n",
    "        plt.title('feature')\n",
    "        plt.tight_layout()\n",
    "        plt.show()\n",
    "    else:\n",
    "        print(feat_imp.head(num))\n",
    "    return feat_imp"
   ]
  },
  {
   "cell_type": "code",
   "execution_count": null,
   "id": "7e06016f",
   "metadata": {},
   "outputs": [],
   "source": [
    "plot_lgb_importances(model, num=30, plot=True)"
   ]
  },
  {
   "cell_type": "code",
   "execution_count": null,
   "id": "ba528ea7",
   "metadata": {},
   "outputs": [],
   "source": [
    "dff=pd.DataFrame(np.expm1(Y_val))\n",
    "dff[\"pred\"]=np.expm1(y_pred_val)\n",
    "dff.head(3)"
   ]
  },
  {
   "cell_type": "code",
   "execution_count": null,
   "id": "231a0226",
   "metadata": {},
   "outputs": [],
   "source": [
    "dff[\"diff\"].mean()"
   ]
  },
  {
   "cell_type": "markdown",
   "id": "141b8ba1",
   "metadata": {},
   "source": [
    "<a id = \"14\" ></a>\n",
    "# <span style=\"font-family:serif; font-size:28px;\"> 14. Result</span>\n",
    "<a id = \"Undertanding the data\" ></a>"
   ]
  },
  {
   "cell_type": "code",
   "execution_count": null,
   "id": "d9fa0617",
   "metadata": {},
   "outputs": [],
   "source": [
    "dff['Total_Paid'].plot(legend=True, label=\"Total_Paid\")\n",
    "dff['pred'].plot(legend=True, label=\"pred\", figsize=(16, 8))\n",
    "plt.show()"
   ]
  },
  {
   "cell_type": "markdown",
   "id": "2972b5fe",
   "metadata": {},
   "source": [
    "**Estimates and actual data largely overlap.**\n",
    "\n",
    "**Great result 👍**"
   ]
  },
  {
   "cell_type": "markdown",
   "id": "a02cddff",
   "metadata": {},
   "source": [
    "<img src=\"https://amessagewithabottle.com/wp-content/uploads/2019/09/moneyball-1024x550.jpg\" width=\"500\">"
   ]
  },
  {
   "cell_type": "markdown",
   "id": "406e3c72",
   "metadata": {},
   "source": [
    "I hope all of you did gain some insights to Machine Learning. Some other my notebooks for Machine Learning are:\n",
    "\n",
    "❖ **House Price** Prediction, EDA, ML, Visualization : https://www.kaggle.com/code/mustafayazici/house-price-eda-ml-visualization\n",
    "\n",
    "❖ **Salary** Prediction with ML Models - ⚾Baseball  : https://www.kaggle.com/code/mustafayazici/salary-prediction-with-ml-models-basebal\n",
    "\n",
    "❖ **Customer Churn** Prediction :https://www.kaggle.com/code/mustafayazici/telco-churn-prediction\n",
    "\n",
    "❖ **Customer Segmentation with K-Means Clustering**  : https://www.kaggle.com/code/mustafayazici/customer-segmentation-with-k-means-clustering\n",
    "\n",
    "❖ **Customer Segmentation with Hierarchical Clustering**  : https://www.kaggle.com/code/mustafayazici/customer-segmentation-with-hierarchical-clustering\n",
    "\n",
    "\n",
    "❖ **PCA & Clustering :** https://www.kaggle.com/code/mustafayazici/makine-ogrenmesi-modeli-pca-clustering\n",
    "\n",
    "❖ **User Based** Recommendation : https://www.kaggle.com/code/mustafayazici/user-based-recommendation-system\n",
    "\n",
    "❖ **Content Based** Recommendation : https://www.kaggle.com/code/mustafayazici/content-based-recommendation\n",
    "\n",
    "❖ **ARL** Recommendation : https://www.kaggle.com/code/mustafayazici/association-rule-learning-recommendation-system\n",
    "\n",
    "❖ **My Kaggle** https://www.kaggle.com/mustafayazici/code\n",
    "\n",
    "❖ **My github** https://github.com/Mustafa-YAZICI?tab=repositories"
   ]
  },
  {
   "cell_type": "markdown",
   "id": "93eae448",
   "metadata": {},
   "source": [
    "<img src=\"https://i.imgflip.com/4of9h0.jpg\" width=\"300\">"
   ]
  },
  {
   "cell_type": "markdown",
   "id": "5bd5da03",
   "metadata": {},
   "source": [
    "Please upvote **if you liked** the kernel! 😀\n",
    "\n",
    "KEEP KAGGLING!"
   ]
  }
 ],
 "metadata": {
  "kernelspec": {
   "display_name": "Python 3 (ipykernel)",
   "language": "python",
   "name": "python3"
  },
  "language_info": {
   "codemirror_mode": {
    "name": "ipython",
    "version": 3
   },
   "file_extension": ".py",
   "mimetype": "text/x-python",
   "name": "python",
   "nbconvert_exporter": "python",
   "pygments_lexer": "ipython3",
   "version": "3.9.12"
  }
 },
 "nbformat": 4,
 "nbformat_minor": 5
}
